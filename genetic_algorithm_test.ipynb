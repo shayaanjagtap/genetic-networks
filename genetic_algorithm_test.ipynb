{
 "cells": [
  {
   "cell_type": "code",
   "execution_count": 1,
   "metadata": {
    "collapsed": true
   },
   "outputs": [],
   "source": [
    "#! /usr/bin/env python3\n",
    "\n",
    "# code tutorial sourced from : https://lethain.com/genetic-algorithms-cool-name-damn-simple/\n",
    "\n",
    "import random\n",
    "from random import randint\n",
    "\n",
    "def individual(length, min, max):\n",
    "    '''a member of the population'''\n",
    "    return [randint(min, max) for x in range(length)]\n",
    "\n",
    "\n",
    "def population(count, length, min, max):\n",
    "    '''create a number of individuals to form a population'''\n",
    "    return [individual(length, min, max) for x in range(count)]\n",
    "\n",
    "\n",
    "# must judge how effective an individual solution is - create an evalutation method\n",
    "from operator import add # basically imports a way to use '+' as a function\n",
    "from functools import reduce\n",
    "def fitness(individual, target):\n",
    "    '''determine the fitness of an individual'''\n",
    "\n",
    "    sum = reduce(add, individual, 0)\n",
    "    return abs(target-sum)\n",
    "\n",
    "\n",
    "def grade(pop, target):\n",
    "    '''grading an entire populations fitness'''\n",
    "    summed = reduce(add, [fitness(x, target) for x in pop], 0)\n",
    "    return summed / (len(pop) * 1.0)\n",
    "\n",
    "\n",
    "def evolve(pop, target, retain=0.2, random_select=0.05, mutate=0.01):\n",
    "    graded = [ (fitness(x, target), x) for x in pop]\n",
    "    graded = [ x[1] for x in sorted(graded)] # returns the top individuals by fitness\n",
    "    retain_length = int(len(graded) * retain)\n",
    "    parents = graded[:retain_length]\n",
    "\n",
    "    # randomly add other individuals to promote genetic diversity\n",
    "    for individual in graded[:retain_length:]:\n",
    "        if random_select > random.uniform(0,1):\n",
    "            parents.append(individual)\n",
    "\n",
    "    # mutate some individuals\n",
    "    for individual in parents:\n",
    "        if mutate > random.uniform(0,1):\n",
    "            pos_to_mutate = randint(0, len(individual)-1)\n",
    "            individual[pos_to_mutate] = randint(min(individual), max(individual))\n",
    "\n",
    "    # breed the individuals\n",
    "    parents_length = len(parents)\n",
    "    desired_length = len(pop) - parents_length\n",
    "    children = []\n",
    "    while len(children) < desired_length:\n",
    "        male = randint(0, parents_length-1)\n",
    "        female = randint(0, parents_length-1)\n",
    "        if male != female:\n",
    "            male = parents[male]\n",
    "            female = parents[female]\n",
    "            half = len(male) // 2\n",
    "            child = male[:half] + female[half:]\n",
    "            children.append(child)\n",
    "\n",
    "        parents.extend(children)\n",
    "  \n",
    "    return parents\n"
   ]
  },
  {
   "cell_type": "markdown",
   "metadata": {},
   "source": [
    "## TEST"
   ]
  },
  {
   "cell_type": "code",
   "execution_count": null,
   "metadata": {},
   "outputs": [
    {
     "name": "stdout",
     "output_type": "stream",
     "text": [
      "target : 252\n"
     ]
    }
   ],
   "source": [
    "target = randint(50,450)\n",
    "print(f'target : {target}')\n",
    "p_count = 100\n",
    "i_length = 5\n",
    "i_min = 0\n",
    "i_max = 100\n",
    "p = population(p_count, i_length, i_min, i_max)\n",
    "fitness_history = [grade(p, target),]\n",
    "for i in range(100):\n",
    "    p = evolve(p, target)\n",
    "    fitness_history.append(grade(p, target))\n",
    "    \n",
    "for data in fitness_history:\n",
    "    print(data)"
   ]
  },
  {
   "cell_type": "markdown",
   "metadata": {},
   "source": [
    "---"
   ]
  }
 ],
 "metadata": {
  "kernelspec": {
   "display_name": "Python 3",
   "language": "python",
   "name": "python3"
  },
  "language_info": {
   "codemirror_mode": {
    "name": "ipython",
    "version": 3
   },
   "file_extension": ".py",
   "mimetype": "text/x-python",
   "name": "python",
   "nbconvert_exporter": "python",
   "pygments_lexer": "ipython3",
   "version": "3.6.2"
  }
 },
 "nbformat": 4,
 "nbformat_minor": 2
}
